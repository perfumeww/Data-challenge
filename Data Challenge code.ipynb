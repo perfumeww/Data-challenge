{
 "cells": [
  {
   "cell_type": "markdown",
   "id": "6598c0d1",
   "metadata": {},
   "source": [
    "# Importing the needed packages"
   ]
  },
  {
   "cell_type": "code",
   "execution_count": 45,
   "id": "5eee64ca",
   "metadata": {},
   "outputs": [],
   "source": [
    "import pandas as pd\n",
    "import numpy as np\n",
    "import seaborn as sns\n",
    "import matplotlib.pyplot as plt\n",
    "import warnings\n",
    "warnings.filterwarnings('ignore')\n",
    "pd.options.display.float_format = '{:.2f}'.format"
   ]
  },
  {
   "cell_type": "code",
   "execution_count": 46,
   "id": "98f397f5",
   "metadata": {},
   "outputs": [],
   "source": [
    "# Importing the Airport_Codes dataset\n",
    "df_Airport_Codes = pd.read_csv ('Airport_Codes.csv')\n",
    "# Importing the Flights dataset\n",
    "df_Flights = pd.read_csv('Flights.csv')\n",
    "# Importing the Tickets dataset\n",
    "df_Tickets = pd.read_csv('Tickets.csv')"
   ]
  },
  {
   "cell_type": "code",
   "execution_count": 47,
   "id": "0110cc49",
   "metadata": {},
   "outputs": [
    {
     "name": "stdout",
     "output_type": "stream",
     "text": [
      "<class 'pandas.core.frame.DataFrame'>\n",
      "RangeIndex: 55369 entries, 0 to 55368\n",
      "Data columns (total 8 columns):\n",
      " #   Column        Non-Null Count  Dtype  \n",
      "---  ------        --------------  -----  \n",
      " 0   TYPE          55369 non-null  object \n",
      " 1   NAME          55369 non-null  object \n",
      " 2   ELEVATION_FT  48354 non-null  float64\n",
      " 3   CONTINENT     27526 non-null  object \n",
      " 4   ISO_COUNTRY   55122 non-null  object \n",
      " 5   MUNICIPALITY  49663 non-null  object \n",
      " 6   IATA_CODE     9182 non-null   object \n",
      " 7   COORDINATES   55369 non-null  object \n",
      "dtypes: float64(1), object(7)\n",
      "memory usage: 3.4+ MB\n",
      "None\n",
      "<class 'pandas.core.frame.DataFrame'>\n",
      "RangeIndex: 1915886 entries, 0 to 1915885\n",
      "Data columns (total 16 columns):\n",
      " #   Column             Dtype  \n",
      "---  ------             -----  \n",
      " 0   FL_DATE            object \n",
      " 1   OP_CARRIER         object \n",
      " 2   TAIL_NUM           object \n",
      " 3   OP_CARRIER_FL_NUM  object \n",
      " 4   ORIGIN_AIRPORT_ID  int64  \n",
      " 5   ORIGIN             object \n",
      " 6   ORIGIN_CITY_NAME   object \n",
      " 7   DEST_AIRPORT_ID    int64  \n",
      " 8   DESTINATION        object \n",
      " 9   DEST_CITY_NAME     object \n",
      " 10  DEP_DELAY          float64\n",
      " 11  ARR_DELAY          float64\n",
      " 12  CANCELLED          float64\n",
      " 13  AIR_TIME           object \n",
      " 14  DISTANCE           object \n",
      " 15  OCCUPANCY_RATE     float64\n",
      "dtypes: float64(4), int64(2), object(10)\n",
      "memory usage: 233.9+ MB\n",
      "None\n",
      "<class 'pandas.core.frame.DataFrame'>\n",
      "RangeIndex: 1167285 entries, 0 to 1167284\n",
      "Data columns (total 12 columns):\n",
      " #   Column             Non-Null Count    Dtype  \n",
      "---  ------             --------------    -----  \n",
      " 0   ITIN_ID            1167285 non-null  int64  \n",
      " 1   YEAR               1167285 non-null  int64  \n",
      " 2   QUARTER            1167285 non-null  int64  \n",
      " 3   ORIGIN             1167285 non-null  object \n",
      " 4   ORIGIN_COUNTRY     1167285 non-null  object \n",
      " 5   ORIGIN_STATE_ABR   1167285 non-null  object \n",
      " 6   ORIGIN_STATE_NM    1167285 non-null  object \n",
      " 7   ROUNDTRIP          1167285 non-null  float64\n",
      " 8   REPORTING_CARRIER  1167285 non-null  object \n",
      " 9   PASSENGERS         1165308 non-null  float64\n",
      " 10  ITIN_FARE          1166325 non-null  object \n",
      " 11  DESTINATION        1167285 non-null  object \n",
      "dtypes: float64(2), int64(3), object(7)\n",
      "memory usage: 106.9+ MB\n",
      "None\n"
     ]
    }
   ],
   "source": [
    "print(df_Airport_Codes.info())\n",
    "print(df_Flights.info())\n",
    "print(df_Tickets.info())"
   ]
  },
  {
   "cell_type": "markdown",
   "id": "d88ea1eb",
   "metadata": {},
   "source": [
    "# Data Quality Check and Cleansing\n",
    "### Airport_Codes dataset"
   ]
  },
  {
   "cell_type": "markdown",
   "id": "b7fcc4b4",
   "metadata": {},
   "source": [
    "### Checking duplicated rows (airport codes)"
   ]
  },
  {
   "cell_type": "code",
   "execution_count": 48,
   "id": "5c58e8e0",
   "metadata": {},
   "outputs": [
    {
     "name": "stdout",
     "output_type": "stream",
     "text": [
      "55369\n",
      "55268\n"
     ]
    }
   ],
   "source": [
    "#Finding duplicates and deleting them\n",
    "print (len(df_Airport_Codes))\n",
    "print (len(df_Airport_Codes.drop_duplicates()))\n",
    "df_Airport_Codes=df_Airport_Codes.drop_duplicates()"
   ]
  },
  {
   "cell_type": "code",
   "execution_count": 49,
   "id": "5248c52c",
   "metadata": {},
   "outputs": [
    {
     "data": {
      "text/plain": [
       "array(['heliport', 'small_airport', 'closed', 'seaplane_base',\n",
       "       'balloonport', 'medium_airport', 'large_airport'], dtype=object)"
      ]
     },
     "execution_count": 49,
     "metadata": {},
     "output_type": "execute_result"
    }
   ],
   "source": [
    "# Checking unique values in TYPE column\n",
    "df_Airport_Codes['TYPE'].unique()"
   ]
  },
  {
   "cell_type": "code",
   "execution_count": 50,
   "id": "6b2df95a",
   "metadata": {
    "scrolled": true
   },
   "outputs": [
    {
     "name": "stdout",
     "output_type": "stream",
     "text": [
      "858\n"
     ]
    }
   ],
   "source": [
    "# Subset the DataFrame to including only data about the medium and large airports. \n",
    "df_Airport_Codes = df_Airport_Codes[(df_Airport_Codes[\"TYPE\"] == \"medium_airport\")|(df_Airport_Codes[\"TYPE\"] == \"large_airport\")]\n",
    "df_Airport_Codes = df_Airport_Codes[df_Airport_Codes[\"ISO_COUNTRY\"] == \"US\"]\n",
    "print (len(df_Airport_Codes))"
   ]
  },
  {
   "cell_type": "markdown",
   "id": "c72d4f94",
   "metadata": {},
   "source": [
    "### Removing Unnecessary Columns(airport codes)"
   ]
  },
  {
   "cell_type": "code",
   "execution_count": 51,
   "id": "1e7b218c",
   "metadata": {},
   "outputs": [
    {
     "data": {
      "text/plain": [
       "(858, 2)"
      ]
     },
     "execution_count": 51,
     "metadata": {},
     "output_type": "execute_result"
    }
   ],
   "source": [
    "# Removing Unneccesary columns \n",
    "df_Airport_Codes=df_Airport_Codes.drop(['NAME','CONTINENT','ISO_COUNTRY','MUNICIPALITY','COORDINATES','ELEVATION_FT'],axis=1)\n",
    "df_Airport_Codes.shape"
   ]
  },
  {
   "cell_type": "markdown",
   "id": "6d84071c",
   "metadata": {},
   "source": [
    "### Handle null value(airport codes)"
   ]
  },
  {
   "cell_type": "code",
   "execution_count": 52,
   "id": "af744ef9",
   "metadata": {},
   "outputs": [
    {
     "data": {
      "text/plain": [
       "TYPE          0\n",
       "IATA_CODE    37\n",
       "dtype: int64"
      ]
     },
     "execution_count": 52,
     "metadata": {},
     "output_type": "execute_result"
    }
   ],
   "source": [
    "# Checking missing value \n",
    "def check_missing_data(df):\n",
    "    return df.isnull().sum().sort_values()\n",
    "check_missing_data(df_Airport_Codes)"
   ]
  },
  {
   "cell_type": "code",
   "execution_count": 53,
   "id": "07ceba5a",
   "metadata": {},
   "outputs": [
    {
     "data": {
      "text/plain": [
       "4.312354312354312"
      ]
     },
     "execution_count": 53,
     "metadata": {},
     "output_type": "execute_result"
    }
   ],
   "source": [
    "# Checking percentage of the missing value\n",
    "def check_percent_of_missing_data(df):\n",
    "    return (sum(df.isnull().sum()) * 100 /len(df))\n",
    "check_percent_of_missing_data(df_Airport_Codes)"
   ]
  },
  {
   "cell_type": "code",
   "execution_count": 54,
   "id": "8aa16147",
   "metadata": {},
   "outputs": [
    {
     "name": "stdout",
     "output_type": "stream",
     "text": [
      "821\n"
     ]
    }
   ],
   "source": [
    "# Dropping the missing value\n",
    "def drop_na(cols,df):\n",
    "    return df.dropna(subset = [cols])\n",
    "df_Airport_Codes = drop_na('IATA_CODE', df_Airport_Codes)\n",
    "print(len(drop_na('IATA_CODE', df_Airport_Codes)))"
   ]
  },
  {
   "cell_type": "markdown",
   "id": "74c304a1",
   "metadata": {},
   "source": [
    "### Reset the indices"
   ]
  },
  {
   "cell_type": "code",
   "execution_count": 55,
   "id": "b4698b92",
   "metadata": {},
   "outputs": [
    {
     "data": {
      "text/html": [
       "<div>\n",
       "<style scoped>\n",
       "    .dataframe tbody tr th:only-of-type {\n",
       "        vertical-align: middle;\n",
       "    }\n",
       "\n",
       "    .dataframe tbody tr th {\n",
       "        vertical-align: top;\n",
       "    }\n",
       "\n",
       "    .dataframe thead th {\n",
       "        text-align: right;\n",
       "    }\n",
       "</style>\n",
       "<table border=\"1\" class=\"dataframe\">\n",
       "  <thead>\n",
       "    <tr style=\"text-align: right;\">\n",
       "      <th></th>\n",
       "      <th>TYPE</th>\n",
       "      <th>IATA_CODE</th>\n",
       "    </tr>\n",
       "  </thead>\n",
       "  <tbody>\n",
       "    <tr>\n",
       "      <th>0</th>\n",
       "      <td>medium_airport</td>\n",
       "      <td>WKK</td>\n",
       "    </tr>\n",
       "    <tr>\n",
       "      <th>1</th>\n",
       "      <td>medium_airport</td>\n",
       "      <td>ABE</td>\n",
       "    </tr>\n",
       "    <tr>\n",
       "      <th>2</th>\n",
       "      <td>medium_airport</td>\n",
       "      <td>ABI</td>\n",
       "    </tr>\n",
       "    <tr>\n",
       "      <th>3</th>\n",
       "      <td>large_airport</td>\n",
       "      <td>ABQ</td>\n",
       "    </tr>\n",
       "    <tr>\n",
       "      <th>4</th>\n",
       "      <td>medium_airport</td>\n",
       "      <td>ABR</td>\n",
       "    </tr>\n",
       "    <tr>\n",
       "      <th>...</th>\n",
       "      <td>...</td>\n",
       "      <td>...</td>\n",
       "    </tr>\n",
       "    <tr>\n",
       "      <th>816</th>\n",
       "      <td>medium_airport</td>\n",
       "      <td>OGG</td>\n",
       "    </tr>\n",
       "    <tr>\n",
       "      <th>817</th>\n",
       "      <td>medium_airport</td>\n",
       "      <td>BSF</td>\n",
       "    </tr>\n",
       "    <tr>\n",
       "      <th>818</th>\n",
       "      <td>medium_airport</td>\n",
       "      <td>ITO</td>\n",
       "    </tr>\n",
       "    <tr>\n",
       "      <th>819</th>\n",
       "      <td>medium_airport</td>\n",
       "      <td>UPP</td>\n",
       "    </tr>\n",
       "    <tr>\n",
       "      <th>820</th>\n",
       "      <td>medium_airport</td>\n",
       "      <td>PIZ</td>\n",
       "    </tr>\n",
       "  </tbody>\n",
       "</table>\n",
       "<p>821 rows × 2 columns</p>\n",
       "</div>"
      ],
      "text/plain": [
       "               TYPE IATA_CODE\n",
       "0    medium_airport       WKK\n",
       "1    medium_airport       ABE\n",
       "2    medium_airport       ABI\n",
       "3     large_airport       ABQ\n",
       "4    medium_airport       ABR\n",
       "..              ...       ...\n",
       "816  medium_airport       OGG\n",
       "817  medium_airport       BSF\n",
       "818  medium_airport       ITO\n",
       "819  medium_airport       UPP\n",
       "820  medium_airport       PIZ\n",
       "\n",
       "[821 rows x 2 columns]"
      ]
     },
     "execution_count": 55,
     "metadata": {},
     "output_type": "execute_result"
    }
   ],
   "source": [
    "# Reset the indices from 0, avoiding the indices to be out of order\n",
    "df_Airport_Codes.reset_index(drop=True, inplace = True)\n",
    "df_Airport_Codes"
   ]
  },
  {
   "cell_type": "markdown",
   "id": "b6bc10a0",
   "metadata": {},
   "source": [
    "# Data Quality Check and Cleansing\n",
    "### Flights dataset"
   ]
  },
  {
   "cell_type": "markdown",
   "id": "13f9c394",
   "metadata": {},
   "source": [
    "### Checking duplicated rows (Flights)"
   ]
  },
  {
   "cell_type": "code",
   "execution_count": 56,
   "id": "07db9a32",
   "metadata": {},
   "outputs": [
    {
     "name": "stdout",
     "output_type": "stream",
     "text": [
      "1915886\n",
      "1911341\n"
     ]
    }
   ],
   "source": [
    "#Finding duplicates and deleting them\n",
    "print (len(df_Flights))\n",
    "print (len(df_Flights.drop_duplicates()))\n",
    "df_Flights=df_Flights.drop_duplicates()"
   ]
  },
  {
   "cell_type": "code",
   "execution_count": 57,
   "id": "1673265b",
   "metadata": {},
   "outputs": [
    {
     "data": {
      "text/plain": [
       "array([0., 1.])"
      ]
     },
     "execution_count": 57,
     "metadata": {},
     "output_type": "execute_result"
    }
   ],
   "source": [
    "# Checking unique values in CANCELLED column\n",
    "df_Flights['CANCELLED'].unique()"
   ]
  },
  {
   "cell_type": "code",
   "execution_count": 58,
   "id": "2b3f0f02",
   "metadata": {},
   "outputs": [
    {
     "name": "stdout",
     "output_type": "stream",
     "text": [
      "1859862\n"
     ]
    }
   ],
   "source": [
    "# Subset the DataFrame to including only data about the not canceled flights. \n",
    "df_Flights = df_Flights[df_Flights['CANCELLED'] == 0]\n",
    "print (len(df_Flights))"
   ]
  },
  {
   "cell_type": "markdown",
   "id": "82146fe3",
   "metadata": {},
   "source": [
    "### Removing Unnecessary columns(Flights)"
   ]
  },
  {
   "cell_type": "code",
   "execution_count": 59,
   "id": "1777abac",
   "metadata": {},
   "outputs": [
    {
     "data": {
      "text/plain": [
       "(1859862, 10)"
      ]
     },
     "execution_count": 59,
     "metadata": {},
     "output_type": "execute_result"
    }
   ],
   "source": [
    "# Removing Unneccesary columns \n",
    "df_Flights=df_Flights.drop(['OP_CARRIER','FL_DATE','OP_CARRIER_FL_NUM','CANCELLED','ORIGIN_AIRPORT_ID','DEST_AIRPORT_ID'],axis=1)\n",
    "df_Flights.shape"
   ]
  },
  {
   "cell_type": "markdown",
   "id": "e5005434",
   "metadata": {},
   "source": [
    "### Handling Nonsense Value(Flights)"
   ]
  },
  {
   "cell_type": "code",
   "execution_count": 60,
   "id": "1a2ee775",
   "metadata": {},
   "outputs": [
    {
     "name": "stdout",
     "output_type": "stream",
     "text": [
      "<class 'pandas.core.frame.DataFrame'>\n",
      "Int64Index: 1859862 entries, 0 to 1911340\n",
      "Data columns (total 10 columns):\n",
      " #   Column            Dtype  \n",
      "---  ------            -----  \n",
      " 0   TAIL_NUM          object \n",
      " 1   ORIGIN            object \n",
      " 2   ORIGIN_CITY_NAME  object \n",
      " 3   DESTINATION       object \n",
      " 4   DEST_CITY_NAME    object \n",
      " 5   DEP_DELAY         float64\n",
      " 6   ARR_DELAY         float64\n",
      " 7   AIR_TIME          float64\n",
      " 8   DISTANCE          float64\n",
      " 9   OCCUPANCY_RATE    float64\n",
      "dtypes: float64(5), object(5)\n",
      "memory usage: 156.1+ MB\n",
      "None\n"
     ]
    }
   ],
   "source": [
    "# typecasting some object columns to float\n",
    "def fix_data_format(col,df): \n",
    "    df[col] = df[col].apply(pd.to_numeric, errors='coerce')\n",
    "fix_data_format('DISTANCE',df_Flights)\n",
    "fix_data_format('AIR_TIME',df_Flights)\n",
    "print(df_Flights.info())"
   ]
  },
  {
   "cell_type": "markdown",
   "id": "181b5630",
   "metadata": {},
   "source": [
    "### Handling Null Value (Flights)"
   ]
  },
  {
   "cell_type": "code",
   "execution_count": 61,
   "id": "f367f83d",
   "metadata": {},
   "outputs": [
    {
     "name": "stdout",
     "output_type": "stream",
     "text": [
      "TAIL_NUM               0\n",
      "ORIGIN                 0\n",
      "ORIGIN_CITY_NAME       0\n",
      "DESTINATION            0\n",
      "DEST_CITY_NAME         0\n",
      "DEP_DELAY              0\n",
      "OCCUPANCY_RATE        31\n",
      "DISTANCE             268\n",
      "ARR_DELAY           4368\n",
      "AIR_TIME            4616\n",
      "dtype: int64\n",
      "0.4991230532157762\n"
     ]
    }
   ],
   "source": [
    "# Checking missing value and the percentage of the missing value(use the function already created)\n",
    "print(check_missing_data(df_Flights))\n",
    "print(check_percent_of_missing_data(df_Flights))"
   ]
  },
  {
   "cell_type": "code",
   "execution_count": 62,
   "id": "65ddde34",
   "metadata": {},
   "outputs": [
    {
     "name": "stdout",
     "output_type": "stream",
     "text": [
      "1855044\n"
     ]
    }
   ],
   "source": [
    "# The missing data for each dataframe is less than 1%. So I'd like to drop them.\n",
    "df_Flights = df_Flights.dropna()\n",
    "print (len(df_Flights))"
   ]
  },
  {
   "cell_type": "markdown",
   "id": "bf30bb64",
   "metadata": {},
   "source": [
    "### Handling Outliers (Flights)"
   ]
  },
  {
   "cell_type": "code",
   "execution_count": 63,
   "id": "b3f44da3",
   "metadata": {},
   "outputs": [
    {
     "data": {
      "text/html": [
       "<div>\n",
       "<style scoped>\n",
       "    .dataframe tbody tr th:only-of-type {\n",
       "        vertical-align: middle;\n",
       "    }\n",
       "\n",
       "    .dataframe tbody tr th {\n",
       "        vertical-align: top;\n",
       "    }\n",
       "\n",
       "    .dataframe thead th {\n",
       "        text-align: right;\n",
       "    }\n",
       "</style>\n",
       "<table border=\"1\" class=\"dataframe\">\n",
       "  <thead>\n",
       "    <tr style=\"text-align: right;\">\n",
       "      <th></th>\n",
       "      <th>TAIL_NUM</th>\n",
       "      <th>ORIGIN</th>\n",
       "      <th>ORIGIN_CITY_NAME</th>\n",
       "      <th>DESTINATION</th>\n",
       "      <th>DEST_CITY_NAME</th>\n",
       "      <th>DEP_DELAY</th>\n",
       "      <th>ARR_DELAY</th>\n",
       "      <th>AIR_TIME</th>\n",
       "      <th>DISTANCE</th>\n",
       "      <th>OCCUPANCY_RATE</th>\n",
       "    </tr>\n",
       "  </thead>\n",
       "  <tbody>\n",
       "    <tr>\n",
       "      <th>count</th>\n",
       "      <td>1855044</td>\n",
       "      <td>1855044</td>\n",
       "      <td>1855044</td>\n",
       "      <td>1855044</td>\n",
       "      <td>1855044</td>\n",
       "      <td>1855044.00</td>\n",
       "      <td>1855044.00</td>\n",
       "      <td>1855044.00</td>\n",
       "      <td>1855044.00</td>\n",
       "      <td>1855044.00</td>\n",
       "    </tr>\n",
       "    <tr>\n",
       "      <th>unique</th>\n",
       "      <td>6026</td>\n",
       "      <td>361</td>\n",
       "      <td>355</td>\n",
       "      <td>361</td>\n",
       "      <td>355</td>\n",
       "      <td>NaN</td>\n",
       "      <td>NaN</td>\n",
       "      <td>NaN</td>\n",
       "      <td>NaN</td>\n",
       "      <td>NaN</td>\n",
       "    </tr>\n",
       "    <tr>\n",
       "      <th>top</th>\n",
       "      <td>N485HA</td>\n",
       "      <td>ATL</td>\n",
       "      <td>Chicago, IL</td>\n",
       "      <td>ATL</td>\n",
       "      <td>Chicago, IL</td>\n",
       "      <td>NaN</td>\n",
       "      <td>NaN</td>\n",
       "      <td>NaN</td>\n",
       "      <td>NaN</td>\n",
       "      <td>NaN</td>\n",
       "    </tr>\n",
       "    <tr>\n",
       "      <th>freq</th>\n",
       "      <td>928</td>\n",
       "      <td>92693</td>\n",
       "      <td>104067</td>\n",
       "      <td>92686</td>\n",
       "      <td>103906</td>\n",
       "      <td>NaN</td>\n",
       "      <td>NaN</td>\n",
       "      <td>NaN</td>\n",
       "      <td>NaN</td>\n",
       "      <td>NaN</td>\n",
       "    </tr>\n",
       "    <tr>\n",
       "      <th>mean</th>\n",
       "      <td>NaN</td>\n",
       "      <td>NaN</td>\n",
       "      <td>NaN</td>\n",
       "      <td>NaN</td>\n",
       "      <td>NaN</td>\n",
       "      <td>10.74</td>\n",
       "      <td>5.66</td>\n",
       "      <td>109.34</td>\n",
       "      <td>771.92</td>\n",
       "      <td>0.65</td>\n",
       "    </tr>\n",
       "    <tr>\n",
       "      <th>std</th>\n",
       "      <td>NaN</td>\n",
       "      <td>NaN</td>\n",
       "      <td>NaN</td>\n",
       "      <td>NaN</td>\n",
       "      <td>NaN</td>\n",
       "      <td>49.98</td>\n",
       "      <td>52.43</td>\n",
       "      <td>70.26</td>\n",
       "      <td>581.44</td>\n",
       "      <td>0.20</td>\n",
       "    </tr>\n",
       "    <tr>\n",
       "      <th>min</th>\n",
       "      <td>NaN</td>\n",
       "      <td>NaN</td>\n",
       "      <td>NaN</td>\n",
       "      <td>NaN</td>\n",
       "      <td>NaN</td>\n",
       "      <td>-63.00</td>\n",
       "      <td>-94.00</td>\n",
       "      <td>-121.00</td>\n",
       "      <td>-1947.00</td>\n",
       "      <td>0.30</td>\n",
       "    </tr>\n",
       "    <tr>\n",
       "      <th>25%</th>\n",
       "      <td>NaN</td>\n",
       "      <td>NaN</td>\n",
       "      <td>NaN</td>\n",
       "      <td>NaN</td>\n",
       "      <td>NaN</td>\n",
       "      <td>-6.00</td>\n",
       "      <td>-15.00</td>\n",
       "      <td>59.00</td>\n",
       "      <td>344.00</td>\n",
       "      <td>0.48</td>\n",
       "    </tr>\n",
       "    <tr>\n",
       "      <th>50%</th>\n",
       "      <td>NaN</td>\n",
       "      <td>NaN</td>\n",
       "      <td>NaN</td>\n",
       "      <td>NaN</td>\n",
       "      <td>NaN</td>\n",
       "      <td>-2.00</td>\n",
       "      <td>-6.00</td>\n",
       "      <td>91.00</td>\n",
       "      <td>612.00</td>\n",
       "      <td>0.65</td>\n",
       "    </tr>\n",
       "    <tr>\n",
       "      <th>75%</th>\n",
       "      <td>NaN</td>\n",
       "      <td>NaN</td>\n",
       "      <td>NaN</td>\n",
       "      <td>NaN</td>\n",
       "      <td>NaN</td>\n",
       "      <td>7.00</td>\n",
       "      <td>8.00</td>\n",
       "      <td>139.00</td>\n",
       "      <td>1013.00</td>\n",
       "      <td>0.82</td>\n",
       "    </tr>\n",
       "    <tr>\n",
       "      <th>max</th>\n",
       "      <td>NaN</td>\n",
       "      <td>NaN</td>\n",
       "      <td>NaN</td>\n",
       "      <td>NaN</td>\n",
       "      <td>NaN</td>\n",
       "      <td>2941.00</td>\n",
       "      <td>2923.00</td>\n",
       "      <td>2222.00</td>\n",
       "      <td>9898.00</td>\n",
       "      <td>1.00</td>\n",
       "    </tr>\n",
       "  </tbody>\n",
       "</table>\n",
       "</div>"
      ],
      "text/plain": [
       "       TAIL_NUM   ORIGIN ORIGIN_CITY_NAME DESTINATION DEST_CITY_NAME  \\\n",
       "count   1855044  1855044          1855044     1855044        1855044   \n",
       "unique     6026      361              355         361            355   \n",
       "top      N485HA      ATL      Chicago, IL         ATL    Chicago, IL   \n",
       "freq        928    92693           104067       92686         103906   \n",
       "mean        NaN      NaN              NaN         NaN            NaN   \n",
       "std         NaN      NaN              NaN         NaN            NaN   \n",
       "min         NaN      NaN              NaN         NaN            NaN   \n",
       "25%         NaN      NaN              NaN         NaN            NaN   \n",
       "50%         NaN      NaN              NaN         NaN            NaN   \n",
       "75%         NaN      NaN              NaN         NaN            NaN   \n",
       "max         NaN      NaN              NaN         NaN            NaN   \n",
       "\n",
       "        DEP_DELAY  ARR_DELAY   AIR_TIME   DISTANCE  OCCUPANCY_RATE  \n",
       "count  1855044.00 1855044.00 1855044.00 1855044.00      1855044.00  \n",
       "unique        NaN        NaN        NaN        NaN             NaN  \n",
       "top           NaN        NaN        NaN        NaN             NaN  \n",
       "freq          NaN        NaN        NaN        NaN             NaN  \n",
       "mean        10.74       5.66     109.34     771.92            0.65  \n",
       "std         49.98      52.43      70.26     581.44            0.20  \n",
       "min        -63.00     -94.00    -121.00   -1947.00            0.30  \n",
       "25%         -6.00     -15.00      59.00     344.00            0.48  \n",
       "50%         -2.00      -6.00      91.00     612.00            0.65  \n",
       "75%          7.00       8.00     139.00    1013.00            0.82  \n",
       "max       2941.00    2923.00    2222.00    9898.00            1.00  "
      ]
     },
     "execution_count": 63,
     "metadata": {},
     "output_type": "execute_result"
    }
   ],
   "source": [
    "## Summary statistics for each data column.\n",
    "df_Flights.describe(include= 'all')"
   ]
  },
  {
   "cell_type": "code",
   "execution_count": 64,
   "id": "657cec70",
   "metadata": {},
   "outputs": [],
   "source": [
    "# It shows that the minimum air time is too short and maximum air time is too long which are both unreasonable\n",
    "# The minimum distance is too short, and maximum distance is too long which are both unreasonable\n",
    "# Occupancy rate should between 0 and 1"
   ]
  },
  {
   "cell_type": "code",
   "execution_count": 65,
   "id": "71c0d133",
   "metadata": {},
   "outputs": [
    {
     "data": {
      "image/png": "[encoded data removed]",
      "text/plain": [
       "<Figure size 1224x216 with 5 Axes>"
      ]
     },
     "metadata": {
      "needs_background": "light"
     },
     "output_type": "display_data"
    }
   ],
   "source": [
    "# boxplot for numeric variable\n",
    "fig, ax =plt.subplots(1,5,figsize=(17, 3))\n",
    "sns.boxplot(x='DEP_DELAY',data=df_Flights,ax=ax[0], showmeans=True)\n",
    "sns.boxplot(x='ARR_DELAY',data=df_Flights,ax=ax[1], showmeans=True)\n",
    "sns.boxplot(x='AIR_TIME',data=df_Flights,ax=ax[2], showmeans=True)\n",
    "sns.boxplot(x='DISTANCE',data=df_Flights,ax=ax[3], showmeans=True)\n",
    "sns.boxplot(x='OCCUPANCY_RATE',data=df_Flights,ax=ax[4], showmeans=True)\n",
    "fig.show()"
   ]
  },
  {
   "cell_type": "code",
   "execution_count": 66,
   "id": "a7f0d4a0",
   "metadata": {
    "scrolled": true
   },
   "outputs": [
    {
     "name": "stdout",
     "output_type": "stream",
     "text": [
      "(1467082, 10)\n"
     ]
    }
   ],
   "source": [
    "# Based on the fact, I searched for air times and distance within the United States, \n",
    "# the shortest flight was a 30-minute nonstop flight from Los Angeles to San Francisco, a distance of 310 miles,\n",
    "# and the longest flight was from Boston to Honolulu, a distance of about 600 minutes and a distance of 5,100 miles\n",
    "# Beyond this range I consider them as outliers, so some of the outliers shown in boxplot are true value\n",
    "df_Flights = df_Flights[(df_Flights[\"AIR_TIME\"]>=30)&(df_Flights[\"AIR_TIME\"]<=600)]\n",
    "df_Flights = df_Flights[(df_Flights[\"DISTANCE\"]>=310)&(df_Flights[\"DISTANCE\"]<=5100)]\n",
    "df_Flights = df_Flights[(df_Flights[\"OCCUPANCY_RATE\"]<=1)&(df_Flights[\"OCCUPANCY_RATE\"]>=0)]\n",
    "#For the arrive time, I'd believe that (-94,2923)is a normal range,same as the departure time's range(-64,2941), so I keep the original data. \n",
    "print(df_Flights.shape)"
   ]
  },
  {
   "cell_type": "markdown",
   "id": "2e97534e",
   "metadata": {},
   "source": [
    "### Reset the indices"
   ]
  },
  {
   "cell_type": "code",
   "execution_count": 67,
   "id": "37bf7705",
   "metadata": {},
   "outputs": [
    {
     "data": {
      "text/html": [
       "<div>\n",
       "<style scoped>\n",
       "    .dataframe tbody tr th:only-of-type {\n",
       "        vertical-align: middle;\n",
       "    }\n",
       "\n",
       "    .dataframe tbody tr th {\n",
       "        vertical-align: top;\n",
       "    }\n",
       "\n",
       "    .dataframe thead th {\n",
       "        text-align: right;\n",
       "    }\n",
       "</style>\n",
       "<table border=\"1\" class=\"dataframe\">\n",
       "  <thead>\n",
       "    <tr style=\"text-align: right;\">\n",
       "      <th></th>\n",
       "      <th>TAIL_NUM</th>\n",
       "      <th>ORIGIN</th>\n",
       "      <th>ORIGIN_CITY_NAME</th>\n",
       "      <th>DESTINATION</th>\n",
       "      <th>DEST_CITY_NAME</th>\n",
       "      <th>DEP_DELAY</th>\n",
       "      <th>ARR_DELAY</th>\n",
       "      <th>AIR_TIME</th>\n",
       "      <th>DISTANCE</th>\n",
       "      <th>OCCUPANCY_RATE</th>\n",
       "    </tr>\n",
       "  </thead>\n",
       "  <tbody>\n",
       "    <tr>\n",
       "      <th>0</th>\n",
       "      <td>N955WN</td>\n",
       "      <td>RSW</td>\n",
       "      <td>Fort Myers, FL</td>\n",
       "      <td>CLE</td>\n",
       "      <td>Cleveland, OH</td>\n",
       "      <td>-8.00</td>\n",
       "      <td>-6.00</td>\n",
       "      <td>143.00</td>\n",
       "      <td>1025.00</td>\n",
       "      <td>0.97</td>\n",
       "    </tr>\n",
       "    <tr>\n",
       "      <th>1</th>\n",
       "      <td>N8686A</td>\n",
       "      <td>RSW</td>\n",
       "      <td>Fort Myers, FL</td>\n",
       "      <td>CMH</td>\n",
       "      <td>Columbus, OH</td>\n",
       "      <td>1.00</td>\n",
       "      <td>5.00</td>\n",
       "      <td>135.00</td>\n",
       "      <td>930.00</td>\n",
       "      <td>0.55</td>\n",
       "    </tr>\n",
       "    <tr>\n",
       "      <th>2</th>\n",
       "      <td>N201LV</td>\n",
       "      <td>RSW</td>\n",
       "      <td>Fort Myers, FL</td>\n",
       "      <td>CMH</td>\n",
       "      <td>Columbus, OH</td>\n",
       "      <td>0.00</td>\n",
       "      <td>4.00</td>\n",
       "      <td>132.00</td>\n",
       "      <td>930.00</td>\n",
       "      <td>0.91</td>\n",
       "    </tr>\n",
       "    <tr>\n",
       "      <th>3</th>\n",
       "      <td>N413WN</td>\n",
       "      <td>RSW</td>\n",
       "      <td>Fort Myers, FL</td>\n",
       "      <td>CMH</td>\n",
       "      <td>Columbus, OH</td>\n",
       "      <td>11.00</td>\n",
       "      <td>14.00</td>\n",
       "      <td>136.00</td>\n",
       "      <td>930.00</td>\n",
       "      <td>0.67</td>\n",
       "    </tr>\n",
       "    <tr>\n",
       "      <th>4</th>\n",
       "      <td>N7832A</td>\n",
       "      <td>RSW</td>\n",
       "      <td>Fort Myers, FL</td>\n",
       "      <td>DAL</td>\n",
       "      <td>Dallas, TX</td>\n",
       "      <td>0.00</td>\n",
       "      <td>-17.00</td>\n",
       "      <td>151.00</td>\n",
       "      <td>1005.00</td>\n",
       "      <td>0.62</td>\n",
       "    </tr>\n",
       "    <tr>\n",
       "      <th>...</th>\n",
       "      <td>...</td>\n",
       "      <td>...</td>\n",
       "      <td>...</td>\n",
       "      <td>...</td>\n",
       "      <td>...</td>\n",
       "      <td>...</td>\n",
       "      <td>...</td>\n",
       "      <td>...</td>\n",
       "      <td>...</td>\n",
       "      <td>...</td>\n",
       "    </tr>\n",
       "    <tr>\n",
       "      <th>1467077</th>\n",
       "      <td>N412WN</td>\n",
       "      <td>RSW</td>\n",
       "      <td>Fort Myers, FL</td>\n",
       "      <td>SAN</td>\n",
       "      <td>San Diego, CA</td>\n",
       "      <td>-2.00</td>\n",
       "      <td>-4.00</td>\n",
       "      <td>164.00</td>\n",
       "      <td>1105.00</td>\n",
       "      <td>0.36</td>\n",
       "    </tr>\n",
       "    <tr>\n",
       "      <th>1467078</th>\n",
       "      <td>N8317M</td>\n",
       "      <td>RSW</td>\n",
       "      <td>Fort Myers, FL</td>\n",
       "      <td>MDW</td>\n",
       "      <td>Chicago, IL</td>\n",
       "      <td>-2.00</td>\n",
       "      <td>11.00</td>\n",
       "      <td>173.00</td>\n",
       "      <td>2213.00</td>\n",
       "      <td>0.35</td>\n",
       "    </tr>\n",
       "    <tr>\n",
       "      <th>1467079</th>\n",
       "      <td>N223WN</td>\n",
       "      <td>RSW</td>\n",
       "      <td>Fort Myers, FL</td>\n",
       "      <td>MDW</td>\n",
       "      <td>Chicago, IL</td>\n",
       "      <td>1.00</td>\n",
       "      <td>1.00</td>\n",
       "      <td>166.00</td>\n",
       "      <td>2312.00</td>\n",
       "      <td>0.67</td>\n",
       "    </tr>\n",
       "    <tr>\n",
       "      <th>1467080</th>\n",
       "      <td>N8574Z</td>\n",
       "      <td>RSW</td>\n",
       "      <td>Fort Myers, FL</td>\n",
       "      <td>PIT</td>\n",
       "      <td>Pittsburgh, PA</td>\n",
       "      <td>-6.00</td>\n",
       "      <td>-17.00</td>\n",
       "      <td>32.00</td>\n",
       "      <td>2232.00</td>\n",
       "      <td>0.88</td>\n",
       "    </tr>\n",
       "    <tr>\n",
       "      <th>1467081</th>\n",
       "      <td>N8730Q</td>\n",
       "      <td>RSW</td>\n",
       "      <td>Fort Myers, FL</td>\n",
       "      <td>ROC</td>\n",
       "      <td>Rochester, NY</td>\n",
       "      <td>-1.00</td>\n",
       "      <td>11.00</td>\n",
       "      <td>123.00</td>\n",
       "      <td>900.00</td>\n",
       "      <td>0.56</td>\n",
       "    </tr>\n",
       "  </tbody>\n",
       "</table>\n",
       "<p>1467082 rows × 10 columns</p>\n",
       "</div>"
      ],
      "text/plain": [
       "        TAIL_NUM ORIGIN ORIGIN_CITY_NAME DESTINATION  DEST_CITY_NAME  \\\n",
       "0         N955WN    RSW   Fort Myers, FL         CLE   Cleveland, OH   \n",
       "1         N8686A    RSW   Fort Myers, FL         CMH    Columbus, OH   \n",
       "2         N201LV    RSW   Fort Myers, FL         CMH    Columbus, OH   \n",
       "3         N413WN    RSW   Fort Myers, FL         CMH    Columbus, OH   \n",
       "4         N7832A    RSW   Fort Myers, FL         DAL      Dallas, TX   \n",
       "...          ...    ...              ...         ...             ...   \n",
       "1467077   N412WN    RSW   Fort Myers, FL         SAN   San Diego, CA   \n",
       "1467078   N8317M    RSW   Fort Myers, FL         MDW     Chicago, IL   \n",
       "1467079   N223WN    RSW   Fort Myers, FL         MDW     Chicago, IL   \n",
       "1467080   N8574Z    RSW   Fort Myers, FL         PIT  Pittsburgh, PA   \n",
       "1467081   N8730Q    RSW   Fort Myers, FL         ROC   Rochester, NY   \n",
       "\n",
       "         DEP_DELAY  ARR_DELAY  AIR_TIME  DISTANCE  OCCUPANCY_RATE  \n",
       "0            -8.00      -6.00    143.00   1025.00            0.97  \n",
       "1             1.00       5.00    135.00    930.00            0.55  \n",
       "2             0.00       4.00    132.00    930.00            0.91  \n",
       "3            11.00      14.00    136.00    930.00            0.67  \n",
       "4             0.00     -17.00    151.00   1005.00            0.62  \n",
       "...            ...        ...       ...       ...             ...  \n",
       "1467077      -2.00      -4.00    164.00   1105.00            0.36  \n",
       "1467078      -2.00      11.00    173.00   2213.00            0.35  \n",
       "1467079       1.00       1.00    166.00   2312.00            0.67  \n",
       "1467080      -6.00     -17.00     32.00   2232.00            0.88  \n",
       "1467081      -1.00      11.00    123.00    900.00            0.56  \n",
       "\n",
       "[1467082 rows x 10 columns]"
      ]
     },
     "execution_count": 67,
     "metadata": {},
     "output_type": "execute_result"
    }
   ],
   "source": [
    "# Reset the indices from 0, avoiding the indices to be out of order\n",
    "df_Flights.reset_index(drop=True, inplace = True)\n",
    "df_Flights"
   ]
  },
  {
   "cell_type": "markdown",
   "id": "b30a1596",
   "metadata": {},
   "source": [
    "# Data Quality Check and Cleansing\n",
    "### Tickets dataset"
   ]
  },
  {
   "cell_type": "markdown",
   "id": "bfa19adb",
   "metadata": {},
   "source": [
    "### Checking Duplicated Rows(Tickets)"
   ]
  },
  {
   "cell_type": "code",
   "execution_count": 68,
   "id": "6da18545",
   "metadata": {},
   "outputs": [
    {
     "name": "stdout",
     "output_type": "stream",
     "text": [
      "1167285\n",
      "1095387\n"
     ]
    }
   ],
   "source": [
    "#Finding duplicates and deleting them\n",
    "print (len(df_Tickets))\n",
    "print (len(df_Tickets.drop_duplicates()))\n",
    "df_Tickets=df_Tickets.drop_duplicates()"
   ]
  },
  {
   "cell_type": "code",
   "execution_count": 69,
   "id": "e8fd3836",
   "metadata": {},
   "outputs": [
    {
     "data": {
      "text/plain": [
       "array([1., 0.])"
      ]
     },
     "execution_count": 69,
     "metadata": {},
     "output_type": "execute_result"
    }
   ],
   "source": [
    "# Checking unique values in ROUNDTRIP column\n",
    "df_Tickets['ROUNDTRIP'].unique()"
   ]
  },
  {
   "cell_type": "code",
   "execution_count": 70,
   "id": "87d05e7e",
   "metadata": {},
   "outputs": [
    {
     "name": "stdout",
     "output_type": "stream",
     "text": [
      "661036\n"
     ]
    }
   ],
   "source": [
    "# Subseting the dataframe to include only data about the round trip tickets.\n",
    "df_Tickets = df_Tickets[df_Tickets['ROUNDTRIP'] == 1]\n",
    "print (len(df_Tickets))"
   ]
  },
  {
   "cell_type": "markdown",
   "id": "35614eb8",
   "metadata": {},
   "source": [
    "### Removing Unnecessary columns(Tickets)"
   ]
  },
  {
   "cell_type": "code",
   "execution_count": 71,
   "id": "5ebfc359",
   "metadata": {},
   "outputs": [
    {
     "data": {
      "text/plain": [
       "(661036, 5)"
      ]
     },
     "execution_count": 71,
     "metadata": {},
     "output_type": "execute_result"
    }
   ],
   "source": [
    "# Removing Unneccesary columns \n",
    "df_Tickets=df_Tickets.drop(['ITIN_ID','YEAR','QUARTER','ORIGIN_COUNTRY','ORIGIN_STATE_ABR','ROUNDTRIP','REPORTING_CARRIER'],axis=1)\n",
    "df_Tickets.shape"
   ]
  },
  {
   "cell_type": "markdown",
   "id": "77b4a376",
   "metadata": {},
   "source": [
    "### Handling Nonsense Value(Tickets)"
   ]
  },
  {
   "cell_type": "code",
   "execution_count": 72,
   "id": "096676f4",
   "metadata": {
    "scrolled": true
   },
   "outputs": [
    {
     "name": "stdout",
     "output_type": "stream",
     "text": [
      "<class 'pandas.core.frame.DataFrame'>\n",
      "Int64Index: 661036 entries, 0 to 1115067\n",
      "Data columns (total 5 columns):\n",
      " #   Column           Non-Null Count   Dtype  \n",
      "---  ------           --------------   -----  \n",
      " 0   ORIGIN           661036 non-null  object \n",
      " 1   ORIGIN_STATE_NM  661036 non-null  object \n",
      " 2   PASSENGERS       660076 non-null  float64\n",
      " 3   ITIN_FARE        659379 non-null  float64\n",
      " 4   DESTINATION      661036 non-null  object \n",
      "dtypes: float64(2), object(3)\n",
      "memory usage: 30.3+ MB\n",
      "None\n"
     ]
    }
   ],
   "source": [
    "# typecasting some object columns to float\n",
    "fix_data_format('ITIN_FARE',df_Tickets)\n",
    "print(df_Tickets.info())"
   ]
  },
  {
   "cell_type": "markdown",
   "id": "b0c6e73d",
   "metadata": {},
   "source": [
    "### Handling Null Value(Tickets)"
   ]
  },
  {
   "cell_type": "code",
   "execution_count": 73,
   "id": "b74ed8fb",
   "metadata": {},
   "outputs": [
    {
     "name": "stdout",
     "output_type": "stream",
     "text": [
      "ORIGIN                0\n",
      "ORIGIN_STATE_NM       0\n",
      "DESTINATION           0\n",
      "PASSENGERS          960\n",
      "ITIN_FARE          1657\n",
      "dtype: int64\n",
      "0.3958937183451431\n"
     ]
    }
   ],
   "source": [
    "# Checking missing value and the percentage of the missing value(use the function already created)\n",
    "print(check_missing_data(df_Tickets))\n",
    "print(check_percent_of_missing_data(df_Tickets))"
   ]
  },
  {
   "cell_type": "code",
   "execution_count": 74,
   "id": "f3f47804",
   "metadata": {
    "scrolled": true
   },
   "outputs": [
    {
     "name": "stdout",
     "output_type": "stream",
     "text": [
      "658426\n"
     ]
    }
   ],
   "source": [
    "# The missing data for each dataframe is less than 1%. So I'd like to drop them.\n",
    "df_Tickets = df_Tickets.dropna()\n",
    "print (len(df_Tickets))"
   ]
  },
  {
   "cell_type": "markdown",
   "id": "aa610250",
   "metadata": {},
   "source": [
    "### Handling Outliers(Tickets)"
   ]
  },
  {
   "cell_type": "code",
   "execution_count": 75,
   "id": "4535bc62",
   "metadata": {},
   "outputs": [
    {
     "data": {
      "text/html": [
       "<div>\n",
       "<style scoped>\n",
       "    .dataframe tbody tr th:only-of-type {\n",
       "        vertical-align: middle;\n",
       "    }\n",
       "\n",
       "    .dataframe tbody tr th {\n",
       "        vertical-align: top;\n",
       "    }\n",
       "\n",
       "    .dataframe thead th {\n",
       "        text-align: right;\n",
       "    }\n",
       "</style>\n",
       "<table border=\"1\" class=\"dataframe\">\n",
       "  <thead>\n",
       "    <tr style=\"text-align: right;\">\n",
       "      <th></th>\n",
       "      <th>ORIGIN</th>\n",
       "      <th>ORIGIN_STATE_NM</th>\n",
       "      <th>PASSENGERS</th>\n",
       "      <th>ITIN_FARE</th>\n",
       "      <th>DESTINATION</th>\n",
       "    </tr>\n",
       "  </thead>\n",
       "  <tbody>\n",
       "    <tr>\n",
       "      <th>count</th>\n",
       "      <td>658426</td>\n",
       "      <td>658426</td>\n",
       "      <td>658426.00</td>\n",
       "      <td>658426.00</td>\n",
       "      <td>658426</td>\n",
       "    </tr>\n",
       "    <tr>\n",
       "      <th>unique</th>\n",
       "      <td>409</td>\n",
       "      <td>52</td>\n",
       "      <td>NaN</td>\n",
       "      <td>NaN</td>\n",
       "      <td>392</td>\n",
       "    </tr>\n",
       "    <tr>\n",
       "      <th>top</th>\n",
       "      <td>ORD</td>\n",
       "      <td>California</td>\n",
       "      <td>NaN</td>\n",
       "      <td>NaN</td>\n",
       "      <td>LAS</td>\n",
       "    </tr>\n",
       "    <tr>\n",
       "      <th>freq</th>\n",
       "      <td>19047</td>\n",
       "      <td>69631</td>\n",
       "      <td>NaN</td>\n",
       "      <td>NaN</td>\n",
       "      <td>25286</td>\n",
       "    </tr>\n",
       "    <tr>\n",
       "      <th>mean</th>\n",
       "      <td>NaN</td>\n",
       "      <td>NaN</td>\n",
       "      <td>1.96</td>\n",
       "      <td>473.25</td>\n",
       "      <td>NaN</td>\n",
       "    </tr>\n",
       "    <tr>\n",
       "      <th>std</th>\n",
       "      <td>NaN</td>\n",
       "      <td>NaN</td>\n",
       "      <td>5.15</td>\n",
       "      <td>344.20</td>\n",
       "      <td>NaN</td>\n",
       "    </tr>\n",
       "    <tr>\n",
       "      <th>min</th>\n",
       "      <td>NaN</td>\n",
       "      <td>NaN</td>\n",
       "      <td>1.00</td>\n",
       "      <td>0.00</td>\n",
       "      <td>NaN</td>\n",
       "    </tr>\n",
       "    <tr>\n",
       "      <th>25%</th>\n",
       "      <td>NaN</td>\n",
       "      <td>NaN</td>\n",
       "      <td>1.00</td>\n",
       "      <td>280.00</td>\n",
       "      <td>NaN</td>\n",
       "    </tr>\n",
       "    <tr>\n",
       "      <th>50%</th>\n",
       "      <td>NaN</td>\n",
       "      <td>NaN</td>\n",
       "      <td>1.00</td>\n",
       "      <td>415.00</td>\n",
       "      <td>NaN</td>\n",
       "    </tr>\n",
       "    <tr>\n",
       "      <th>75%</th>\n",
       "      <td>NaN</td>\n",
       "      <td>NaN</td>\n",
       "      <td>1.00</td>\n",
       "      <td>595.00</td>\n",
       "      <td>NaN</td>\n",
       "    </tr>\n",
       "    <tr>\n",
       "      <th>max</th>\n",
       "      <td>NaN</td>\n",
       "      <td>NaN</td>\n",
       "      <td>681.00</td>\n",
       "      <td>38400.00</td>\n",
       "      <td>NaN</td>\n",
       "    </tr>\n",
       "  </tbody>\n",
       "</table>\n",
       "</div>"
      ],
      "text/plain": [
       "        ORIGIN ORIGIN_STATE_NM  PASSENGERS  ITIN_FARE DESTINATION\n",
       "count   658426          658426   658426.00  658426.00      658426\n",
       "unique     409              52         NaN        NaN         392\n",
       "top        ORD      California         NaN        NaN         LAS\n",
       "freq     19047           69631         NaN        NaN       25286\n",
       "mean       NaN             NaN        1.96     473.25         NaN\n",
       "std        NaN             NaN        5.15     344.20         NaN\n",
       "min        NaN             NaN        1.00       0.00         NaN\n",
       "25%        NaN             NaN        1.00     280.00         NaN\n",
       "50%        NaN             NaN        1.00     415.00         NaN\n",
       "75%        NaN             NaN        1.00     595.00         NaN\n",
       "max        NaN             NaN      681.00   38400.00         NaN"
      ]
     },
     "execution_count": 75,
     "metadata": {},
     "output_type": "execute_result"
    }
   ],
   "source": [
    "## Summary statistics for each data column.\n",
    "df_Tickets.describe(include= 'all')"
   ]
  },
  {
   "cell_type": "code",
   "execution_count": 76,
   "id": "e11a8c39",
   "metadata": {},
   "outputs": [
    {
     "data": {
      "image/png": "[encoded data removed]",
      "text/plain": [
       "<Figure size 1224x216 with 2 Axes>"
      ]
     },
     "metadata": {
      "needs_background": "light"
     },
     "output_type": "display_data"
    }
   ],
   "source": [
    "# boxplot for numeric variable\n",
    "fig, ax =plt.subplots(1,2,figsize=(17, 3))\n",
    "sns.boxplot(x='PASSENGERS',data=df_Tickets,ax=ax[0], showmeans=True)\n",
    "sns.boxplot(x='ITIN_FARE',data=df_Tickets,ax=ax[1], showmeans=True)\n",
    "fig.show()"
   ]
  },
  {
   "cell_type": "code",
   "execution_count": 77,
   "id": "fe19c6be",
   "metadata": {
    "scrolled": false
   },
   "outputs": [
    {
     "name": "stdout",
     "output_type": "stream",
     "text": [
      "-192.5 1067.5\n"
     ]
    }
   ],
   "source": [
    "# Because the tickets data is randomly sampled data, \n",
    "#By Boxplot we see that Fare above 15000 is very high as we see on the boxplot. So I'd like to assume that fare is between 20 and 15000\n",
    "#It told that the ideal capacity is 200, so we could see the passengers over 300 is outliers. So I'd like to assume number of passengers is between 0 and 300\n",
    "# Beyond this range I consider them as outliers\n",
    "df_Tickets = df_Tickets[(df_Tickets['PASSENGERS']>0)&(df_Tickets[\"PASSENGERS\"]<=300)]\n",
    "#calculate the IQR (interquartile range) of ITIN_FARE variable\n",
    "a = np.quantile(df_Tickets['ITIN_FARE'], 0.75)  \n",
    "b = np.quantile(df_Tickets['ITIN_FARE'], 0.25)   \n",
    "up = a + 1.5 * (a - b)  \n",
    "down = b - 1.5 * (a - b) \n",
    "print(down,up)"
   ]
  },
  {
   "cell_type": "code",
   "execution_count": 78,
   "id": "01c01da4",
   "metadata": {},
   "outputs": [
    {
     "name": "stdout",
     "output_type": "stream",
     "text": [
      "0.043660123571545736\n"
     ]
    }
   ],
   "source": [
    "a = df_Tickets[(df_Tickets['ITIN_FARE']<=down)|(df_Tickets[\"ITIN_FARE\"]>=up)]\n",
    "outliers = len(a)\n",
    "percentage_outliers = outliers / len(df_Tickets)\n",
    "print(percentage_outliers)"
   ]
  },
  {
   "cell_type": "code",
   "execution_count": 79,
   "id": "54f6e57b",
   "metadata": {},
   "outputs": [
    {
     "name": "stdout",
     "output_type": "stream",
     "text": [
      "(629658, 5)\n"
     ]
    }
   ],
   "source": [
    "df_Tickets = df_Tickets[(df_Tickets['ITIN_FARE']>=down)&(df_Tickets[\"ITIN_FARE\"]<=up)]\n",
    "print(df_Tickets.shape)"
   ]
  },
  {
   "cell_type": "markdown",
   "id": "e386e4b9",
   "metadata": {},
   "source": [
    "### Reset the Indices"
   ]
  },
  {
   "cell_type": "code",
   "execution_count": 80,
   "id": "2bebdc11",
   "metadata": {},
   "outputs": [
    {
     "data": {
      "text/html": [
       "<div>\n",
       "<style scoped>\n",
       "    .dataframe tbody tr th:only-of-type {\n",
       "        vertical-align: middle;\n",
       "    }\n",
       "\n",
       "    .dataframe tbody tr th {\n",
       "        vertical-align: top;\n",
       "    }\n",
       "\n",
       "    .dataframe thead th {\n",
       "        text-align: right;\n",
       "    }\n",
       "</style>\n",
       "<table border=\"1\" class=\"dataframe\">\n",
       "  <thead>\n",
       "    <tr style=\"text-align: right;\">\n",
       "      <th></th>\n",
       "      <th>ORIGIN</th>\n",
       "      <th>ORIGIN_STATE_NM</th>\n",
       "      <th>PASSENGERS</th>\n",
       "      <th>ITIN_FARE</th>\n",
       "      <th>DESTINATION</th>\n",
       "    </tr>\n",
       "  </thead>\n",
       "  <tbody>\n",
       "    <tr>\n",
       "      <th>0</th>\n",
       "      <td>ABI</td>\n",
       "      <td>Texas</td>\n",
       "      <td>1.00</td>\n",
       "      <td>736.00</td>\n",
       "      <td>DAB</td>\n",
       "    </tr>\n",
       "    <tr>\n",
       "      <th>1</th>\n",
       "      <td>ABI</td>\n",
       "      <td>Texas</td>\n",
       "      <td>1.00</td>\n",
       "      <td>570.00</td>\n",
       "      <td>COS</td>\n",
       "    </tr>\n",
       "    <tr>\n",
       "      <th>2</th>\n",
       "      <td>ABI</td>\n",
       "      <td>Texas</td>\n",
       "      <td>1.00</td>\n",
       "      <td>564.00</td>\n",
       "      <td>MCO</td>\n",
       "    </tr>\n",
       "    <tr>\n",
       "      <th>3</th>\n",
       "      <td>ABI</td>\n",
       "      <td>Texas</td>\n",
       "      <td>1.00</td>\n",
       "      <td>345.00</td>\n",
       "      <td>LGA</td>\n",
       "    </tr>\n",
       "    <tr>\n",
       "      <th>4</th>\n",
       "      <td>ABI</td>\n",
       "      <td>Texas</td>\n",
       "      <td>1.00</td>\n",
       "      <td>425.00</td>\n",
       "      <td>LIT</td>\n",
       "    </tr>\n",
       "    <tr>\n",
       "      <th>...</th>\n",
       "      <td>...</td>\n",
       "      <td>...</td>\n",
       "      <td>...</td>\n",
       "      <td>...</td>\n",
       "      <td>...</td>\n",
       "    </tr>\n",
       "    <tr>\n",
       "      <th>629653</th>\n",
       "      <td>YUM</td>\n",
       "      <td>Arizona</td>\n",
       "      <td>1.00</td>\n",
       "      <td>585.00</td>\n",
       "      <td>FLL</td>\n",
       "    </tr>\n",
       "    <tr>\n",
       "      <th>629654</th>\n",
       "      <td>YUM</td>\n",
       "      <td>Arizona</td>\n",
       "      <td>1.00</td>\n",
       "      <td>692.00</td>\n",
       "      <td>ALB</td>\n",
       "    </tr>\n",
       "    <tr>\n",
       "      <th>629655</th>\n",
       "      <td>YUM</td>\n",
       "      <td>Arizona</td>\n",
       "      <td>1.00</td>\n",
       "      <td>600.00</td>\n",
       "      <td>MRY</td>\n",
       "    </tr>\n",
       "    <tr>\n",
       "      <th>629656</th>\n",
       "      <td>YUM</td>\n",
       "      <td>Arizona</td>\n",
       "      <td>1.00</td>\n",
       "      <td>705.00</td>\n",
       "      <td>ELP</td>\n",
       "    </tr>\n",
       "    <tr>\n",
       "      <th>629657</th>\n",
       "      <td>YUM</td>\n",
       "      <td>Arizona</td>\n",
       "      <td>1.00</td>\n",
       "      <td>580.00</td>\n",
       "      <td>MRY</td>\n",
       "    </tr>\n",
       "  </tbody>\n",
       "</table>\n",
       "<p>629658 rows × 5 columns</p>\n",
       "</div>"
      ],
      "text/plain": [
       "       ORIGIN ORIGIN_STATE_NM  PASSENGERS  ITIN_FARE DESTINATION\n",
       "0         ABI           Texas        1.00     736.00         DAB\n",
       "1         ABI           Texas        1.00     570.00         COS\n",
       "2         ABI           Texas        1.00     564.00         MCO\n",
       "3         ABI           Texas        1.00     345.00         LGA\n",
       "4         ABI           Texas        1.00     425.00         LIT\n",
       "...       ...             ...         ...        ...         ...\n",
       "629653    YUM         Arizona        1.00     585.00         FLL\n",
       "629654    YUM         Arizona        1.00     692.00         ALB\n",
       "629655    YUM         Arizona        1.00     600.00         MRY\n",
       "629656    YUM         Arizona        1.00     705.00         ELP\n",
       "629657    YUM         Arizona        1.00     580.00         MRY\n",
       "\n",
       "[629658 rows x 5 columns]"
      ]
     },
     "execution_count": 80,
     "metadata": {},
     "output_type": "execute_result"
    }
   ],
   "source": [
    "# Reset the indices from 0, avoiding the indices to be out of order\n",
    "df_Tickets.reset_index(drop=True, inplace = True)\n",
    "df_Tickets"
   ]
  },
  {
   "cell_type": "code",
   "execution_count": 81,
   "id": "82ab678a",
   "metadata": {},
   "outputs": [
    {
     "name": "stdout",
     "output_type": "stream",
     "text": [
      "<class 'pandas.core.frame.DataFrame'>\n",
      "RangeIndex: 821 entries, 0 to 820\n",
      "Data columns (total 2 columns):\n",
      " #   Column     Non-Null Count  Dtype \n",
      "---  ------     --------------  ----- \n",
      " 0   TYPE       821 non-null    object\n",
      " 1   IATA_CODE  821 non-null    object\n",
      "dtypes: object(2)\n",
      "memory usage: 13.0+ KB\n",
      "None\n",
      "<class 'pandas.core.frame.DataFrame'>\n",
      "RangeIndex: 1467082 entries, 0 to 1467081\n",
      "Data columns (total 10 columns):\n",
      " #   Column            Non-Null Count    Dtype  \n",
      "---  ------            --------------    -----  \n",
      " 0   TAIL_NUM          1467082 non-null  object \n",
      " 1   ORIGIN            1467082 non-null  object \n",
      " 2   ORIGIN_CITY_NAME  1467082 non-null  object \n",
      " 3   DESTINATION       1467082 non-null  object \n",
      " 4   DEST_CITY_NAME    1467082 non-null  object \n",
      " 5   DEP_DELAY         1467082 non-null  float64\n",
      " 6   ARR_DELAY         1467082 non-null  float64\n",
      " 7   AIR_TIME          1467082 non-null  float64\n",
      " 8   DISTANCE          1467082 non-null  float64\n",
      " 9   OCCUPANCY_RATE    1467082 non-null  float64\n",
      "dtypes: float64(5), object(5)\n",
      "memory usage: 111.9+ MB\n",
      "None\n",
      "<class 'pandas.core.frame.DataFrame'>\n",
      "RangeIndex: 629658 entries, 0 to 629657\n",
      "Data columns (total 5 columns):\n",
      " #   Column           Non-Null Count   Dtype  \n",
      "---  ------           --------------   -----  \n",
      " 0   ORIGIN           629658 non-null  object \n",
      " 1   ORIGIN_STATE_NM  629658 non-null  object \n",
      " 2   PASSENGERS       629658 non-null  float64\n",
      " 3   ITIN_FARE        629658 non-null  float64\n",
      " 4   DESTINATION      629658 non-null  object \n",
      "dtypes: float64(2), object(3)\n",
      "memory usage: 24.0+ MB\n",
      "None\n"
     ]
    }
   ],
   "source": [
    "print(df_Airport_Codes.info())\n",
    "print(df_Flights.info())\n",
    "print(df_Tickets.info())"
   ]
  },
  {
   "cell_type": "markdown",
   "id": "36d7ca51",
   "metadata": {},
   "source": [
    "## Merging Airport_Codes and Flights into a single file"
   ]
  },
  {
   "cell_type": "code",
   "execution_count": 82,
   "id": "6b239baf",
   "metadata": {},
   "outputs": [],
   "source": [
    "final_temp = pd.merge(df_Flights,df_Airport_Codes, how='inner', left_on='ORIGIN',right_on='IATA_CODE')\n",
    "final_temp = pd.merge(final_temp,df_Airport_Codes, how='inner', left_on='DESTINATION',right_on='IATA_CODE',suffixes=('_ORIGIN', '_DES'))\n",
    "final_temp.drop(columns={'IATA_CODE_ORIGIN','IATA_CODE_DES'},inplace=True)"
   ]
  },
  {
   "cell_type": "code",
   "execution_count": 83,
   "id": "4ea83bda",
   "metadata": {
    "scrolled": true
   },
   "outputs": [],
   "source": [
    "Routes=[]\n",
    "Route=[]\n",
    "for i in range(final_temp.shape[0]):\n",
    "    Route=[final_temp['ORIGIN'].iloc[i],final_temp['DESTINATION'].iloc[i]]\n",
    "    Routes.append(sorted(Route))\n",
    "final_temp.insert(11, 'Routes', Routes)"
   ]
  },
  {
   "cell_type": "code",
   "execution_count": 41,
   "id": "dd8c3b18",
   "metadata": {},
   "outputs": [],
   "source": [
    "Routes=[]\n",
    "Route=[]\n",
    "for i in range(final_temp.shape[0]):\n",
    "    Route=final_temp['Routes'].iloc[i][0]+\" \"+final_temp['Routes'].iloc[i][1]\n",
    "    Routes.append(Route)\n",
    "del final_temp['Routes']\n",
    "final_temp.insert(11, 'Routes', Routes)"
   ]
  },
  {
   "cell_type": "code",
   "execution_count": 43,
   "id": "e20cf511",
   "metadata": {},
   "outputs": [
    {
     "data": {
      "text/plain": [
       "(1442978, 13)"
      ]
     },
     "execution_count": 43,
     "metadata": {},
     "output_type": "execute_result"
    }
   ],
   "source": [
    "final_temp.shape"
   ]
  },
  {
   "cell_type": "markdown",
   "id": "94d18e5d",
   "metadata": {},
   "source": [
    "### Attach docking fee to the dataset of each routes(medium airport 5000, large airport 10000)"
   ]
  },
  {
   "cell_type": "code",
   "execution_count": 2049,
   "id": "22feded7",
   "metadata": {},
   "outputs": [],
   "source": [
    "rate_ORIGIN=[]\n",
    "for i in final_temp['TYPE_ORIGIN']:\n",
    "    if i=='large_airport':\n",
    "        rate_ORIGIN.append(10000)\n",
    "    elif i=='medium_airport':\n",
    "        rate_ORIGIN.append(5000)\n",
    "\n",
    "rate_DES=[]\n",
    "for i in final_temp['TYPE_DES']:\n",
    "    if i=='large_airport':\n",
    "        rate_DES.append(10000)\n",
    "    elif i=='medium_airport':\n",
    "        rate_DES.append(5000)"
   ]
  },
  {
   "cell_type": "code",
   "execution_count": 2050,
   "id": "d247baaf",
   "metadata": {},
   "outputs": [],
   "source": [
    "final_temp.insert(0, 'DOCKING_COST_ORIGIN', rate_ORIGIN)\n",
    "final_temp.insert(1, 'DOCKING_COST_DES', rate_DES)\n",
    "del final_temp['TYPE_ORIGIN']\n",
    "del final_temp['TYPE_DES']"
   ]
  },
  {
   "cell_type": "markdown",
   "id": "3a6f9f51",
   "metadata": {},
   "source": [
    "### Calculating and Attaching delay fee of each routes."
   ]
  },
  {
   "cell_type": "code",
   "execution_count": 2051,
   "id": "f6c997ec",
   "metadata": {},
   "outputs": [],
   "source": [
    "delay_dep=[]\n",
    "for i in final_temp['DEP_DELAY']:\n",
    "    if i>15:\n",
    "        delay_dep.append((i-15)*75)\n",
    "    else:\n",
    "        delay_dep.append(0)\n",
    "delay_arr=[]\n",
    "for i in final_temp['ARR_DELAY']:\n",
    "    if i>15:\n",
    "        delay_arr.append((i-15)*75)\n",
    "    else:\n",
    "        delay_arr.append(0) \n",
    "final_temp.insert(0, 'DELAY_DEP_COST', delay_dep)\n",
    "final_temp.insert(1, 'DELAY_ARR_COST', delay_arr)"
   ]
  },
  {
   "cell_type": "markdown",
   "id": "5b05ba1e",
   "metadata": {},
   "source": [
    "### Calculating and Attaching number of delay of each routes."
   ]
  },
  {
   "cell_type": "code",
   "execution_count": 2052,
   "id": "36306013",
   "metadata": {},
   "outputs": [],
   "source": [
    "DELAY_DEP_COUNT=[]\n",
    "for i in final_temp['DEP_DELAY']:\n",
    "    if i>0:\n",
    "        DELAY_DEP_COUNT.append(1)\n",
    "    else:\n",
    "        DELAY_DEP_COUNT.append(0)\n",
    "DELAY_ARR_COUNT=[]\n",
    "for i in final_temp['ARR_DELAY']:\n",
    "    if i>0:\n",
    "        DELAY_ARR_COUNT.append(1)\n",
    "    else:\n",
    "        DELAY_ARR_COUNT.append(0)  \n",
    "final_temp.insert(0, 'DELAY_DEP_COUNT', DELAY_DEP_COUNT)\n",
    "final_temp.insert(1, 'DELAY_ARR_COUNT', DELAY_ARR_COUNT)\n",
    "del final_temp['DEP_DELAY']\n",
    "del final_temp['ARR_DELAY']"
   ]
  },
  {
   "cell_type": "markdown",
   "id": "8825d5eb",
   "metadata": {},
   "source": [
    "### Aggregating all columns by routes"
   ]
  },
  {
   "cell_type": "code",
   "execution_count": 2053,
   "id": "c25e04ed",
   "metadata": {},
   "outputs": [],
   "source": [
    "final_temp.reset_index()\n",
    "final=  pd.DataFrame(final_temp.groupby('Routes').agg({'OCCUPANCY_RATE':'mean','DISTANCE':'mean','DELAY_DEP_COST':'sum','DELAY_ARR_COST':'sum','DOCKING_COST_ORIGIN':'mean','DOCKING_COST_DES':'mean','DELAY_DEP_COUNT':'sum','DELAY_ARR_COUNT':'sum','AIR_TIME':'count'}))\n",
    "final['OCCUPANCY'] = final['OCCUPANCY_RATE']*200\n",
    "final['ROUNDS'] = final['AIR_TIME']/2"
   ]
  },
  {
   "cell_type": "markdown",
   "id": "8fa87e53",
   "metadata": {},
   "source": [
    "## Concatting original three files into a single file \"final\" by routes"
   ]
  },
  {
   "cell_type": "code",
   "execution_count": 2054,
   "id": "62e9651e",
   "metadata": {},
   "outputs": [],
   "source": [
    "Routes=[]\n",
    "Route=[]\n",
    "for i in range(df_Tickets.shape[0]):\n",
    "    Route=[df_Tickets['ORIGIN'].iloc[i],df_Tickets['DESTINATION'].iloc[i]]\n",
    "    Routes.append(sorted(Route))\n",
    "df_Tickets.insert(5, 'Routes', Routes)\n",
    "Routes=[]\n",
    "Route=[]\n",
    "for i in range(df_Tickets.shape[0]):\n",
    "    Route=df_Tickets['Routes'].iloc[i][0]+\" \"+df_Tickets['Routes'].iloc[i][1]\n",
    "    Routes.append(Route)\n",
    "del df_Tickets['Routes']\n",
    "df_Tickets.insert(5, 'Routes', Routes)"
   ]
  },
  {
   "cell_type": "code",
   "execution_count": 2055,
   "id": "4617e634",
   "metadata": {},
   "outputs": [],
   "source": [
    "# Aggregate the number of passengers and fare by routes into final table \n",
    "temp=  pd.DataFrame(df_Tickets.groupby('Routes').agg({'ITIN_FARE':'sum','PASSENGERS':'sum'}))\n",
    "temp['ITIN_FARE_PER_PASSENGER'] = temp['ITIN_FARE']/temp['PASSENGERS']\n",
    "final.reset_index()\n",
    "temp.reset_index()\n",
    "final = pd.concat([final , temp ], axis=1, join=\"inner\")"
   ]
  },
  {
   "cell_type": "markdown",
   "id": "16978719",
   "metadata": {},
   "source": [
    "## Q1 The 10 busiest round trip routes"
   ]
  },
  {
   "cell_type": "code",
   "execution_count": 2056,
   "id": "3b5446a6",
   "metadata": {},
   "outputs": [],
   "source": [
    "final = final.reset_index()\n",
    "temp = final.sort_values(by = ['ROUNDS'],ascending = False).iloc[:10,]"
   ]
  },
  {
   "cell_type": "code",
   "execution_count": 2057,
   "id": "f02da9fa",
   "metadata": {},
   "outputs": [
    {
     "data": {
      "text/html": [
       "<div>\n",
       "<style scoped>\n",
       "    .dataframe tbody tr th:only-of-type {\n",
       "        vertical-align: middle;\n",
       "    }\n",
       "\n",
       "    .dataframe tbody tr th {\n",
       "        vertical-align: top;\n",
       "    }\n",
       "\n",
       "    .dataframe thead th {\n",
       "        text-align: right;\n",
       "    }\n",
       "</style>\n",
       "<table border=\"1\" class=\"dataframe\">\n",
       "  <thead>\n",
       "    <tr style=\"text-align: right;\">\n",
       "      <th></th>\n",
       "      <th>Routes</th>\n",
       "      <th>ROUNDS</th>\n",
       "    </tr>\n",
       "  </thead>\n",
       "  <tbody>\n",
       "    <tr>\n",
       "      <th>1804</th>\n",
       "      <td>LAX SFO</td>\n",
       "      <td>4166.50</td>\n",
       "    </tr>\n",
       "    <tr>\n",
       "      <th>1843</th>\n",
       "      <td>LGA ORD</td>\n",
       "      <td>3573.00</td>\n",
       "    </tr>\n",
       "    <tr>\n",
       "      <th>1680</th>\n",
       "      <td>JFK LAX</td>\n",
       "      <td>3149.50</td>\n",
       "    </tr>\n",
       "    <tr>\n",
       "      <th>1803</th>\n",
       "      <td>LAX SEA</td>\n",
       "      <td>2496.00</td>\n",
       "    </tr>\n",
       "    <tr>\n",
       "      <th>148</th>\n",
       "      <td>ATL MCO</td>\n",
       "      <td>2353.50</td>\n",
       "    </tr>\n",
       "    <tr>\n",
       "      <th>144</th>\n",
       "      <td>ATL LGA</td>\n",
       "      <td>2294.50</td>\n",
       "    </tr>\n",
       "    <tr>\n",
       "      <th>122</th>\n",
       "      <td>ATL FLL</td>\n",
       "      <td>2290.50</td>\n",
       "    </tr>\n",
       "    <tr>\n",
       "      <th>2338</th>\n",
       "      <td>SEA SFO</td>\n",
       "      <td>2273.00</td>\n",
       "    </tr>\n",
       "    <tr>\n",
       "      <th>1793</th>\n",
       "      <td>LAX PHX</td>\n",
       "      <td>2096.50</td>\n",
       "    </tr>\n",
       "    <tr>\n",
       "      <th>1036</th>\n",
       "      <td>DEN PHX</td>\n",
       "      <td>1964.00</td>\n",
       "    </tr>\n",
       "  </tbody>\n",
       "</table>\n",
       "</div>"
      ],
      "text/plain": [
       "       Routes  ROUNDS\n",
       "1804  LAX SFO 4166.50\n",
       "1843  LGA ORD 3573.00\n",
       "1680  JFK LAX 3149.50\n",
       "1803  LAX SEA 2496.00\n",
       "148   ATL MCO 2353.50\n",
       "144   ATL LGA 2294.50\n",
       "122   ATL FLL 2290.50\n",
       "2338  SEA SFO 2273.00\n",
       "1793  LAX PHX 2096.50\n",
       "1036  DEN PHX 1964.00"
      ]
     },
     "execution_count": 2057,
     "metadata": {},
     "output_type": "execute_result"
    }
   ],
   "source": [
    "a = temp[['Routes', 'ROUNDS']]\n",
    "a"
   ]
  },
  {
   "cell_type": "code",
   "execution_count": 2058,
   "id": "c5c94e5d",
   "metadata": {
    "scrolled": true
   },
   "outputs": [
    {
     "data": {
      "image/png": "[encoded data removed]",
      "text/plain": [
       "<Figure size 432x288 with 1 Axes>"
      ]
     },
     "metadata": {},
     "output_type": "display_data"
    }
   ],
   "source": [
    "# barchart for the 10 busiest round trip routes\n",
    "sns.barplot(x = 'Routes',y='ROUNDS', data = temp)\n",
    "plt.xticks(rotation=60)\n",
    "plt.title('Top 10 Busiest Round Trip Routes')\n",
    "sns.set_theme(style = 'whitegrid')\n",
    "sns.set_color_codes(\"muted\")"
   ]
  },
  {
   "cell_type": "markdown",
   "id": "e696bf7d",
   "metadata": {},
   "source": [
    "## Q2 The 10 most profitable round trip routes"
   ]
  },
  {
   "cell_type": "code",
   "execution_count": 2059,
   "id": "c79f160a",
   "metadata": {},
   "outputs": [],
   "source": [
    "# Calculating the profit\n",
    "# From the instruction we know that we can't use the Tickets data set to determine occupancy.\n",
    "# Itinerary Fare Per Person. Itinerary fare represents the whole round trip fare if ROUNDTRIP = 1.\n",
    "# Revenue = PASSENGERS * (Baggage_Fee + ITIN_FARE_AVG) * Rounds\n",
    "# Cost = (Maintenance_Fee + Depreciation_Fee) * (2 * DISTANCE * Rounds) + Delay_Fee + Docking Fee\n",
    "# profit = Revenue - Cost (without considering the upfront airplane cost)\n",
    "\n",
    "final['Cost'] = (8+1.18) * (2 * final['DISTANCE']*final['ROUNDS']) + final['DELAY_DEP_COST']+final['DELAY_ARR_COST']+final['DOCKING_COST_ORIGIN']*final['ROUNDS']+final['DOCKING_COST_DES']*final['ROUNDS']\n",
    "final['Baggage_Fee'] = final['OCCUPANCY']*0.5*70*final['ROUNDS']*2\n",
    "final['Ticket_Fee'] =  final['PASSENGERS'] * final['ITIN_FARE_PER_PASSENGER'] * final['ROUNDS']*2\n",
    "final['Revenue'] = final['Baggage_Fee']+final['Ticket_Fee']\n",
    "final['Profit'] = final['Revenue']- final['Cost']\n"
   ]
  },
  {
   "cell_type": "code",
   "execution_count": 2060,
   "id": "48cb50e5",
   "metadata": {},
   "outputs": [
    {
     "data": {
      "image/png": "[encoded data removed]",
      "text/plain": [
       "<Figure size 432x288 with 1 Axes>"
      ]
     },
     "metadata": {},
     "output_type": "display_data"
    }
   ],
   "source": [
    "# barchart for the 10 most profitable round trip routes\n",
    "temp = final.sort_values(by = ['Profit'],ascending = False).iloc[:10,]\n",
    "sns.barplot(y = 'Routes',x='Profit', data = temp)\n",
    "plt.title('Top 10 Most Profitable Round Trip Routes')\n",
    "sns.set_theme(style = 'whitegrid')\n",
    "sns.set_color_codes(\"muted\")"
   ]
  },
  {
   "cell_type": "code",
   "execution_count": 2061,
   "id": "0b8f44d5",
   "metadata": {},
   "outputs": [
    {
     "data": {
      "text/html": [
       "<div>\n",
       "<style scoped>\n",
       "    .dataframe tbody tr th:only-of-type {\n",
       "        vertical-align: middle;\n",
       "    }\n",
       "\n",
       "    .dataframe tbody tr th {\n",
       "        vertical-align: top;\n",
       "    }\n",
       "\n",
       "    .dataframe thead th {\n",
       "        text-align: right;\n",
       "    }\n",
       "</style>\n",
       "<table border=\"1\" class=\"dataframe\">\n",
       "  <thead>\n",
       "    <tr style=\"text-align: right;\">\n",
       "      <th></th>\n",
       "      <th>Routes</th>\n",
       "      <th>Profit</th>\n",
       "    </tr>\n",
       "  </thead>\n",
       "  <tbody>\n",
       "    <tr>\n",
       "      <th>1680</th>\n",
       "      <td>JFK LAX</td>\n",
       "      <td>3258872845.50</td>\n",
       "    </tr>\n",
       "    <tr>\n",
       "      <th>1843</th>\n",
       "      <td>LGA ORD</td>\n",
       "      <td>3175599230.76</td>\n",
       "    </tr>\n",
       "    <tr>\n",
       "      <th>1804</th>\n",
       "      <td>LAX SFO</td>\n",
       "      <td>2560033292.22</td>\n",
       "    </tr>\n",
       "    <tr>\n",
       "      <th>144</th>\n",
       "      <td>ATL LGA</td>\n",
       "      <td>1827191401.76</td>\n",
       "    </tr>\n",
       "    <tr>\n",
       "      <th>1701</th>\n",
       "      <td>JFK SFO</td>\n",
       "      <td>1653980359.00</td>\n",
       "    </tr>\n",
       "    <tr>\n",
       "      <th>1803</th>\n",
       "      <td>LAX SEA</td>\n",
       "      <td>1648142358.76</td>\n",
       "    </tr>\n",
       "    <tr>\n",
       "      <th>1790</th>\n",
       "      <td>LAX ORD</td>\n",
       "      <td>1512129096.40</td>\n",
       "    </tr>\n",
       "    <tr>\n",
       "      <th>2338</th>\n",
       "      <td>SEA SFO</td>\n",
       "      <td>1389981029.88</td>\n",
       "    </tr>\n",
       "    <tr>\n",
       "      <th>167</th>\n",
       "      <td>ATL ORD</td>\n",
       "      <td>1276103936.44</td>\n",
       "    </tr>\n",
       "    <tr>\n",
       "      <th>142</th>\n",
       "      <td>ATL LAX</td>\n",
       "      <td>1153975555.50</td>\n",
       "    </tr>\n",
       "  </tbody>\n",
       "</table>\n",
       "</div>"
      ],
      "text/plain": [
       "       Routes        Profit\n",
       "1680  JFK LAX 3258872845.50\n",
       "1843  LGA ORD 3175599230.76\n",
       "1804  LAX SFO 2560033292.22\n",
       "144   ATL LGA 1827191401.76\n",
       "1701  JFK SFO 1653980359.00\n",
       "1803  LAX SEA 1648142358.76\n",
       "1790  LAX ORD 1512129096.40\n",
       "2338  SEA SFO 1389981029.88\n",
       "167   ATL ORD 1276103936.44\n",
       "142   ATL LAX 1153975555.50"
      ]
     },
     "execution_count": 2061,
     "metadata": {},
     "output_type": "execute_result"
    }
   ],
   "source": [
    "a = temp[['Routes', 'Profit']].iloc[:10]\n",
    "a"
   ]
  },
  {
   "cell_type": "markdown",
   "id": "9df874b4",
   "metadata": {},
   "source": [
    "## Q3 The 5 round trip routes that you recommend to invest in based on any factors that you choose."
   ]
  },
  {
   "cell_type": "markdown",
   "id": "c40b2d2e",
   "metadata": {},
   "source": [
    "Our Major Goal is to\n",
    "- Increasing Profit\n",
    "- Increasing Customer Base\n",
    "- Making sure a high ROI(Return Of Investment)\n",
    "- Making sure that there is minimum delay as our motto is \"On time, for you\""
   ]
  },
  {
   "cell_type": "markdown",
   "id": "c7a9fad0",
   "metadata": {},
   "source": [
    "### Busy Route\n",
    "The company has decided to start with 5 round trip routes which almost 5 planes to operate\n",
    "The total_count of routes is for a quarter which is 3 months so approximate 90 days\n",
    "Let's say a plane flies once everyday\n",
    "It gives us 90*5 =450. We could fly upto 450 times in a month and we need to make profit in that.\n",
    "Increasing the value by 20% because we don't know about seasonality. So we would consider the airports as busy, if we have above 600 rounds."
   ]
  },
  {
   "cell_type": "code",
   "execution_count": 2062,
   "id": "abd4d009",
   "metadata": {},
   "outputs": [],
   "source": [
    "final['Busy_Route']=np.where((final['ROUNDS']>=600),1,0)"
   ]
  },
  {
   "cell_type": "markdown",
   "id": "3d68b8dc",
   "metadata": {},
   "source": [
    "### Top 10 Least Delay Rate in busy round trip routes"
   ]
  },
  {
   "cell_type": "code",
   "execution_count": 2064,
   "id": "c28c83fb",
   "metadata": {},
   "outputs": [
    {
     "data": {
      "image/png": "[encoded data removed]",
      "text/plain": [
       "<Figure size 432x288 with 1 Axes>"
      ]
     },
     "metadata": {},
     "output_type": "display_data"
    }
   ],
   "source": [
    "final['Total_Delay_Rate'] = (final['DELAY_DEP_COUNT']+final['DELAY_ARR_COUNT'])/ final['ROUNDS']\n",
    "temp = final[final['Busy_Route']==1]\n",
    "temp =temp.sort_values(by='Total_Delay_Rate',ascending=True)[:10]\n",
    "# barchart for the 10 least delay in busy round trip routes\n",
    "sns.barplot(x = 'Routes',y='Total_Delay_Rate', data = temp)\n",
    "plt.xticks(rotation=60)\n",
    "plt.title('Top 10 Least Delay Rate in busy round trip routes')\n",
    "sns.set_theme(style = 'whitegrid')\n",
    "sns.set_color_codes(\"muted\")"
   ]
  },
  {
   "cell_type": "markdown",
   "id": "09b275ed",
   "metadata": {},
   "source": [
    "### Top 10 return on investment in busy round trip routes"
   ]
  },
  {
   "cell_type": "code",
   "execution_count": 2065,
   "id": "5e614cce",
   "metadata": {},
   "outputs": [],
   "source": [
    "# Each airplane is dedicated to one round trip route between the 2 airports, and each airplane will cost $90 million\n",
    "final['Upfront_Cost'] = 90000000\n",
    "final['ROI'] = final['Profit']/ final['Upfront_Cost']\n",
    "temp = final[final['Busy_Route']==1]\n",
    "temp =temp.sort_values(by='ROI',ascending=False)[:10]"
   ]
  },
  {
   "cell_type": "code",
   "execution_count": 2066,
   "id": "ecdbda33",
   "metadata": {
    "scrolled": true
   },
   "outputs": [
    {
     "data": {
      "image/png": "[encoded data removed]",
      "text/plain": [
       "<Figure size 432x288 with 1 Axes>"
      ]
     },
     "metadata": {},
     "output_type": "display_data"
    }
   ],
   "source": [
    "# barchart for the 10 least delay in busy round trip routes\n",
    "sns.barplot(x = 'Routes',y='ROI', data = temp)\n",
    "plt.xticks(rotation=60)\n",
    "plt.title('Top 10 Return on Investment busy round trip routes')\n",
    "sns.set_theme(style = 'whitegrid')\n",
    "sns.set_color_codes(\"muted\")"
   ]
  },
  {
   "cell_type": "code",
   "execution_count": 2068,
   "id": "798a00be",
   "metadata": {},
   "outputs": [],
   "source": [
    "final['Profit_Per_Round'] = final['Profit']/ final['ROUNDS']\n",
    "temp = final[final['Busy_Route']==1]\n",
    "temp =temp.sort_values(by='Profit_Per_Round',ascending=False)[:10]"
   ]
  },
  {
   "cell_type": "code",
   "execution_count": 2069,
   "id": "013392d6",
   "metadata": {},
   "outputs": [
    {
     "data": {
      "image/png": "[encoded data removed]",
      "text/plain": [
       "<Figure size 432x288 with 1 Axes>"
      ]
     },
     "metadata": {},
     "output_type": "display_data"
    }
   ],
   "source": [
    "# barchart for the top 10 profitable per round in busy round trip routes\n",
    "sns.barplot(y = 'Routes',x='Profit_Per_Round', data = temp)\n",
    "plt.title('Top 10 Profitable Per Round in busy round trip routes')\n",
    "sns.set_theme(style = 'whitegrid')\n",
    "sns.set_color_codes(\"muted\")"
   ]
  },
  {
   "cell_type": "markdown",
   "id": "2a078348",
   "metadata": {},
   "source": [
    "### Building Score metric\n",
    "First we will be normalizing Profit, Rounds and Delay Rate in between 0,1 and these will be our scores individually.\n",
    "For profit,ROI,and Rounds increasing scores means good scores but for Delay Rate it would be inverse. So after normalizing we would negate it by 1\n",
    "Then defining our score metric. It would be our weighted_average. We will have 25% weightage on delay rate, 25% on Rounds, 25% on ROI and 25% on profit per round."
   ]
  },
  {
   "cell_type": "code",
   "execution_count": 2070,
   "id": "8662e67d",
   "metadata": {},
   "outputs": [],
   "source": [
    "from sklearn import preprocessing\n",
    "\n",
    "min_max_scaler = preprocessing.MinMaxScaler()\n",
    "x_scaled = min_max_scaler.fit_transform(temp[['Profit_Per_Round','ROUNDS','ROI']])\n",
    "temp['Total_Delay_Rate_SCALER']=temp['Total_Delay_Rate'].tolist()\n",
    "temp['Non_Delay_Rate_SCALER']=1-temp['Total_Delay_Rate']\n",
    "\n",
    "temp['Profit_Per_Round_SCALER']=x_scaled[:,0].tolist()\n",
    "temp['ROUNDS_SCALER']=x_scaled[:,1].tolist()\n",
    "temp['ROI_SCALER']=x_scaled[:,2].tolist()\n",
    "temp['score']=0.25*temp['Non_Delay_Rate_SCALER']+0.25*temp['Profit_Per_Round_SCALER']+0.25*temp['ROUNDS_SCALER']+0.25*temp['ROI']"
   ]
  },
  {
   "cell_type": "code",
   "execution_count": 2072,
   "id": "c0a010bc",
   "metadata": {},
   "outputs": [
    {
     "data": {
      "image/png": "[encoded data removed]",
      "text/plain": [
       "<Figure size 432x288 with 1 Axes>"
      ]
     },
     "metadata": {},
     "output_type": "display_data"
    }
   ],
   "source": [
    "# barchart for the top 5 recommended round trip routes\n",
    "temp =temp.sort_values(by='score',ascending=False)[:5]\n",
    "sns.barplot(x = 'Routes',y='score', data = temp)\n",
    "plt.xticks(rotation=60)\n",
    "plt.title('Top 5 recommended round trip routes')\n",
    "sns.set_theme(style = 'whitegrid')\n",
    "sns.set_color_codes(\"muted\")"
   ]
  },
  {
   "cell_type": "markdown",
   "id": "4d40404f",
   "metadata": {},
   "source": [
    "## Q4 The number of round trip flights it will take to breakeven on the upfront airplane cost for each of the 5 round trip routes that you recommend. "
   ]
  },
  {
   "cell_type": "code",
   "execution_count": 2073,
   "id": "79a61727",
   "metadata": {},
   "outputs": [
    {
     "data": {
      "text/html": [
       "<div>\n",
       "<style scoped>\n",
       "    .dataframe tbody tr th:only-of-type {\n",
       "        vertical-align: middle;\n",
       "    }\n",
       "\n",
       "    .dataframe tbody tr th {\n",
       "        vertical-align: top;\n",
       "    }\n",
       "\n",
       "    .dataframe thead th {\n",
       "        text-align: right;\n",
       "    }\n",
       "</style>\n",
       "<table border=\"1\" class=\"dataframe\">\n",
       "  <thead>\n",
       "    <tr style=\"text-align: right;\">\n",
       "      <th></th>\n",
       "      <th>Routes</th>\n",
       "      <th>Num_Breakeven</th>\n",
       "    </tr>\n",
       "  </thead>\n",
       "  <tbody>\n",
       "    <tr>\n",
       "      <th>1680</th>\n",
       "      <td>JFK LAX</td>\n",
       "      <td>86.98</td>\n",
       "    </tr>\n",
       "    <tr>\n",
       "      <th>1843</th>\n",
       "      <td>LGA ORD</td>\n",
       "      <td>101.26</td>\n",
       "    </tr>\n",
       "    <tr>\n",
       "      <th>144</th>\n",
       "      <td>ATL LGA</td>\n",
       "      <td>113.02</td>\n",
       "    </tr>\n",
       "    <tr>\n",
       "      <th>1701</th>\n",
       "      <td>JFK SFO</td>\n",
       "      <td>100.67</td>\n",
       "    </tr>\n",
       "    <tr>\n",
       "      <th>1790</th>\n",
       "      <td>LAX ORD</td>\n",
       "      <td>110.26</td>\n",
       "    </tr>\n",
       "  </tbody>\n",
       "</table>\n",
       "</div>"
      ],
      "text/plain": [
       "       Routes  Num_Breakeven\n",
       "1680  JFK LAX          86.98\n",
       "1843  LGA ORD         101.26\n",
       "144   ATL LGA         113.02\n",
       "1701  JFK SFO         100.67\n",
       "1790  LAX ORD         110.26"
      ]
     },
     "execution_count": 2073,
     "metadata": {},
     "output_type": "execute_result"
    }
   ],
   "source": [
    "temp['Num_Breakeven'] = temp['Upfront_Cost']/ temp['Profit_Per_Round']\n",
    "temp =temp.sort_values(by='score',ascending=False)[:5]\n",
    "temp[['Routes','Num_Breakeven']]"
   ]
  },
  {
   "cell_type": "code",
   "execution_count": 2074,
   "id": "8266e453",
   "metadata": {},
   "outputs": [
    {
     "data": {
      "image/png": "[encoded data removed]",
      "text/plain": [
       "<Figure size 432x288 with 1 Axes>"
      ]
     },
     "metadata": {},
     "output_type": "display_data"
    }
   ],
   "source": [
    "# barchart for the number of round trip flights to breakeven for top 5 recommended round trip routes\n",
    "sns.barplot(x = 'Routes',y='Num_Breakeven', data = temp)\n",
    "plt.xticks(rotation=60)\n",
    "plt.title('Top 5 recommended round trip routes')\n",
    "sns.set_theme(style = 'whitegrid')\n",
    "sns.set_color_codes(\"muted\")"
   ]
  },
  {
   "cell_type": "code",
   "execution_count": null,
   "id": "a23c75f3",
   "metadata": {},
   "outputs": [],
   "source": []
  }
 ],
 "metadata": {
  "kernelspec": {
   "display_name": "Python 3 (ipykernel)",
   "language": "python",
   "name": "python3"
  },
  "language_info": {
   "codemirror_mode": {
    "name": "ipython",
    "version": 3
   },
   "file_extension": ".py",
   "mimetype": "text/x-python",
   "name": "python",
   "nbconvert_exporter": "python",
   "pygments_lexer": "ipython3",
   "version": "3.9.7"
  }
 },
 "nbformat": 4,
 "nbformat_minor": 5
}
